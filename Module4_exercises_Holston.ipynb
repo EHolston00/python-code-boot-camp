{
 "cells": [
  {
   "cell_type": "markdown",
   "metadata": {},
   "source": [
    "Exercise 1: Make an empty list and call it names"
   ]
  },
  {
   "cell_type": "code",
   "execution_count": 50,
   "metadata": {},
   "outputs": [],
   "source": [
    "names = []"
   ]
  },
  {
   "cell_type": "markdown",
   "metadata": {},
   "source": [
    "Exercise 2: Make names filled with names of 5 people: Hannah, Victor, Sam, James, Sarah"
   ]
  },
  {
   "cell_type": "code",
   "execution_count": 51,
   "metadata": {},
   "outputs": [],
   "source": [
    "names.append(\"Hannah\")\n",
    "names.append(\"Victor\")\n",
    "names.append(\"Sam\")\n",
    "names.append(\"James\")\n",
    "names.append(\"Sarah\")"
   ]
  },
  {
   "cell_type": "code",
   "execution_count": 52,
   "metadata": {},
   "outputs": [
    {
     "name": "stdout",
     "output_type": "stream",
     "text": [
      "['Hannah', 'Victor', 'Sam', 'James', 'Sarah']\n"
     ]
    }
   ],
   "source": [
    "print(f\"{names}\")"
   ]
  },
  {
   "cell_type": "markdown",
   "metadata": {},
   "source": [
    "Exercise 3: Make names sort in reverse. Print out the list using a for-loop"
   ]
  },
  {
   "cell_type": "code",
   "execution_count": 27,
   "metadata": {},
   "outputs": [
    {
     "name": "stdout",
     "output_type": "stream",
     "text": [
      "Victor\n",
      "Sarah\n",
      "Sam\n",
      "James\n",
      "Hannah\n"
     ]
    }
   ],
   "source": [
    "names.sort(reverse=True)\n",
    "for item in names:\n",
    "    print(item)"
   ]
  },
  {
   "cell_type": "markdown",
   "metadata": {},
   "source": [
    "Exercise 4: Make names sorted alphabetically. Print out the list using while loop"
   ]
  },
  {
   "cell_type": "code",
   "execution_count": 61,
   "metadata": {},
   "outputs": [
    {
     "name": "stdout",
     "output_type": "stream",
     "text": [
      "Hannah\n",
      "James\n",
      "Sam\n",
      "Sarah\n",
      "Victor\n"
     ]
    }
   ],
   "source": [
    "counter = 0\n",
    "names.sort()\n",
    "\n",
    "while counter < len(names) :\n",
    "    print(names[counter])\n",
    "    counter = counter + 1"
   ]
  },
  {
   "cell_type": "markdown",
   "metadata": {},
   "source": [
    "Exercise 5: Pull out the fourth item from names and print it out"
   ]
  },
  {
   "cell_type": "code",
   "execution_count": 10,
   "metadata": {},
   "outputs": [
    {
     "name": "stdout",
     "output_type": "stream",
     "text": [
      "James\n"
     ]
    }
   ],
   "source": [
    "print(names.pop(3))"
   ]
  },
  {
   "cell_type": "markdown",
   "metadata": {},
   "source": [
    "Exercise 6: Pull out the first item from names and print it out"
   ]
  },
  {
   "cell_type": "code",
   "execution_count": 11,
   "metadata": {},
   "outputs": [
    {
     "name": "stdout",
     "output_type": "stream",
     "text": [
      "Hannah\n"
     ]
    }
   ],
   "source": [
    "print(names.pop(0))"
   ]
  },
  {
   "cell_type": "markdown",
   "metadata": {},
   "source": [
    "Exercise 7: Make a variable named fruits that contains a string \"Apples, Oranges, Bananas, Pineapples, Persimmons, Dragonfruit\" and make it into a list splitting it by the commas."
   ]
  },
  {
   "cell_type": "code",
   "execution_count": 49,
   "metadata": {},
   "outputs": [
    {
     "name": "stdout",
     "output_type": "stream",
     "text": [
      "['Apples', 'Oranges', 'Bananas', 'Pineapples', 'Persimmons', 'Dragonfruit']\n"
     ]
    }
   ],
   "source": [
    "fruits = \"Apples, Oranges, Bananas, Pineapples, Persimmons, Dragonfruit\"\n",
    "fruits = fruits.split(sep=\", \")\n",
    "print(f\"{fruits}\")"
   ]
  },
  {
   "cell_type": "markdown",
   "metadata": {},
   "source": [
    "Exercise 8: Create a list of the first 10 square numbers. i.e. the square of each integer from 1 to 10. "
   ]
  },
  {
   "cell_type": "code",
   "execution_count": 58,
   "metadata": {},
   "outputs": [
    {
     "name": "stdout",
     "output_type": "stream",
     "text": [
      "[1, 4, 9, 16, 25, 36, 49, 64, 81, 100]\n"
     ]
    }
   ],
   "source": [
    "counter = 0\n",
    "sqNumbers = [0]*10\n",
    "\n",
    "for i in range(10) :\n",
    "    sqNumbers[i] = ((i+1)*(i+1))\n",
    "    \n",
    "print(f\"{sqNumbers}\")"
   ]
  },
  {
   "cell_type": "markdown",
   "metadata": {},
   "source": [
    "Exercise 9: Create a multiplication table from 1 to 10"
   ]
  },
  {
   "cell_type": "code",
   "execution_count": 63,
   "metadata": {},
   "outputs": [
    {
     "name": "stdout",
     "output_type": "stream",
     "text": [
      "Number: 1\n",
      "\n",
      "1 * 1 = 1\n",
      "1 * 2 = 2\n",
      "1 * 3 = 3\n",
      "1 * 4 = 4\n",
      "1 * 5 = 5\n",
      "1 * 6 = 6\n",
      "1 * 7 = 7\n",
      "1 * 8 = 8\n",
      "1 * 9 = 9\n",
      "1 * 10 = 10\n",
      "\n",
      "Number: 2\n",
      "\n",
      "2 * 1 = 2\n",
      "2 * 2 = 4\n",
      "2 * 3 = 6\n",
      "2 * 4 = 8\n",
      "2 * 5 = 10\n",
      "2 * 6 = 12\n",
      "2 * 7 = 14\n",
      "2 * 8 = 16\n",
      "2 * 9 = 18\n",
      "2 * 10 = 20\n",
      "\n",
      "Number: 3\n",
      "\n",
      "3 * 1 = 3\n",
      "3 * 2 = 6\n",
      "3 * 3 = 9\n",
      "3 * 4 = 12\n",
      "3 * 5 = 15\n",
      "3 * 6 = 18\n",
      "3 * 7 = 21\n",
      "3 * 8 = 24\n",
      "3 * 9 = 27\n",
      "3 * 10 = 30\n",
      "\n",
      "Number: 4\n",
      "\n",
      "4 * 1 = 4\n",
      "4 * 2 = 8\n",
      "4 * 3 = 12\n",
      "4 * 4 = 16\n",
      "4 * 5 = 20\n",
      "4 * 6 = 24\n",
      "4 * 7 = 28\n",
      "4 * 8 = 32\n",
      "4 * 9 = 36\n",
      "4 * 10 = 40\n",
      "\n",
      "Number: 5\n",
      "\n",
      "5 * 1 = 5\n",
      "5 * 2 = 10\n",
      "5 * 3 = 15\n",
      "5 * 4 = 20\n",
      "5 * 5 = 25\n",
      "5 * 6 = 30\n",
      "5 * 7 = 35\n",
      "5 * 8 = 40\n",
      "5 * 9 = 45\n",
      "5 * 10 = 50\n",
      "\n",
      "Number: 6\n",
      "\n",
      "6 * 1 = 6\n",
      "6 * 2 = 12\n",
      "6 * 3 = 18\n",
      "6 * 4 = 24\n",
      "6 * 5 = 30\n",
      "6 * 6 = 36\n",
      "6 * 7 = 42\n",
      "6 * 8 = 48\n",
      "6 * 9 = 54\n",
      "6 * 10 = 60\n",
      "\n",
      "Number: 7\n",
      "\n",
      "7 * 1 = 7\n",
      "7 * 2 = 14\n",
      "7 * 3 = 21\n",
      "7 * 4 = 28\n",
      "7 * 5 = 35\n",
      "7 * 6 = 42\n",
      "7 * 7 = 49\n",
      "7 * 8 = 56\n",
      "7 * 9 = 63\n",
      "7 * 10 = 70\n",
      "\n",
      "Number: 8\n",
      "\n",
      "8 * 1 = 8\n",
      "8 * 2 = 16\n",
      "8 * 3 = 24\n",
      "8 * 4 = 32\n",
      "8 * 5 = 40\n",
      "8 * 6 = 48\n",
      "8 * 7 = 56\n",
      "8 * 8 = 64\n",
      "8 * 9 = 72\n",
      "8 * 10 = 80\n",
      "\n",
      "Number: 9\n",
      "\n",
      "9 * 1 = 9\n",
      "9 * 2 = 18\n",
      "9 * 3 = 27\n",
      "9 * 4 = 36\n",
      "9 * 5 = 45\n",
      "9 * 6 = 54\n",
      "9 * 7 = 63\n",
      "9 * 8 = 72\n",
      "9 * 9 = 81\n",
      "9 * 10 = 90\n",
      "\n",
      "Number: 10\n",
      "\n",
      "10 * 1 = 10\n",
      "10 * 2 = 20\n",
      "10 * 3 = 30\n",
      "10 * 4 = 40\n",
      "10 * 5 = 50\n",
      "10 * 6 = 60\n",
      "10 * 7 = 70\n",
      "10 * 8 = 80\n",
      "10 * 9 = 90\n",
      "10 * 10 = 100\n",
      "\n"
     ]
    }
   ],
   "source": [
    "for counter in range(1,11) :\n",
    "    print(f\"Number: {counter}\\n\")\n",
    "    print(f\"{counter} * 1 = {counter*1}\")\n",
    "    print(f\"{counter} * 2 = {counter*2}\")\n",
    "    print(f\"{counter} * 3 = {counter*3}\")\n",
    "    print(f\"{counter} * 4 = {counter*4}\")\n",
    "    print(f\"{counter} * 5 = {counter*5}\")\n",
    "    print(f\"{counter} * 6 = {counter*6}\")\n",
    "    print(f\"{counter} * 7 = {counter*7}\")\n",
    "    print(f\"{counter} * 8 = {counter*8}\")\n",
    "    print(f\"{counter} * 9 = {counter*9}\")\n",
    "    print(f\"{counter} * 10 = {counter*10}\")\n",
    "    print()"
   ]
  },
  {
   "cell_type": "markdown",
   "metadata": {},
   "source": [
    "Exercise 10: Write a program that gets test scores from a user and then calculates and displays the average of the scores that have been enter. The output of the program should show the original scores and the average. "
   ]
  },
  {
   "cell_type": "code",
   "execution_count": 57,
   "metadata": {},
   "outputs": [
    {
     "name": "stdout",
     "output_type": "stream",
     "text": [
      "Enter a test score (or a non number key to process average): 85.5\n",
      "Enter a test score (or a non number key to process average): 92.73\n",
      "Enter a test score (or a non number key to process average): 82.37\n",
      "Enter a test score (or a non number key to process average): 98.75\n",
      "Enter a test score (or a non number key to process average): 100\n",
      "Enter a test score (or a non number key to process average): a\n",
      "\n",
      "The original scores are: 85.5, 92.73, 82.37, 98.75, 100.0\n",
      "The average of these scores is: 91.87%\n"
     ]
    }
   ],
   "source": [
    "scores = []\n",
    "originalScores = \"\"\n",
    "scoreTotal = 0\n",
    "counter = 0\n",
    "\n",
    "while True :\n",
    "    try :\n",
    "        userInput = float(input(\"Enter a test score (or a non number key to process average): \"))\n",
    "        scores.append(userInput)\n",
    "        \n",
    "        if(len(originalScores) == 0) :\n",
    "            originalScores = str(userInput)\n",
    "        else :\n",
    "            originalScores = originalScores + \", \" + str(userInput)\n",
    "        \n",
    "        scoreTotal = scoreTotal + scores[counter]\n",
    "        counter = counter + 1\n",
    "    \n",
    "    except :\n",
    "        break\n",
    "        \n",
    "print()\n",
    "print(f\"The original scores are: {originalScores}\")\n",
    "print(f\"The average of these scores is: {round((scoreTotal / counter), 2)}%\")"
   ]
  },
  {
   "cell_type": "markdown",
   "metadata": {},
   "source": [
    "Challenge:\n",
    "Write a program that maintains a list of movies, and the user can list all the movies, add a movie to the list, or delete a movie from the list.\n",
    "\n",
    "Example\n",
    "\n",
    "###### COMMAND MENU\n",
    "```\n",
    "list - list all movies\n",
    "add - add a movie\n",
    "del - delete a movie\n",
    "exit - exit program \n",
    "```\n",
    "\n",
    "###### Command: list\n",
    "``` \n",
    " 1. Toy Story\n",
    " 2. Lion King\n",
    " 3. Frozen\n",
    " ```\n",
    "\n",
    "###### Command: add\n",
    " ```\n",
    " Name: Snow White\n",
    " Snow White was added.\n",
    " ```\n",
    "\n",
    "###### Command: del\n",
    "```\n",
    " Number: 3\n",
    " Frozen was deleted.```\n",
    "\n"
   ]
  },
  {
   "cell_type": "code",
   "execution_count": 11,
   "metadata": {},
   "outputs": [],
   "source": [
    "def showMenu() :\n",
    "    print(\"list - list all movies\\nadd - add a movie\\ndel - delete a movie\\nexit - exit program\\n\")\n",
    "    \n",
    "def listMovies(list) :\n",
    "    print(\"Movie List\\n\")\n",
    "    \n",
    "    for item in list :\n",
    "        print(f\"{list.index(item)+1}. {item}\")\n",
    "    \n",
    "    print()\n",
    "    \n",
    "def addMovie(list, item) :\n",
    "    list.append(item)\n",
    "    print(f\"Name: {item}\\n{item} was added.\\n\")\n",
    "    \n",
    "def delMovie(list, index) :\n",
    "    if(index == 0 or index > len(list)) :\n",
    "        print(\"***ERROR Invalid index provided. Returning to menu...\\n\")\n",
    "    else :\n",
    "        rmItem = list.pop(index-1)\n",
    "        print(f\"Number: {str(index)}\\n{rmItem} was deleted.```\\n\")"
   ]
  },
  {
   "cell_type": "code",
   "execution_count": 14,
   "metadata": {},
   "outputs": [
    {
     "name": "stdout",
     "output_type": "stream",
     "text": [
      "list - list all movies\n",
      "add - add a movie\n",
      "del - delete a movie\n",
      "exit - exit program\n",
      "\n",
      "Selection: del\n",
      "Enter a number to specify which movie to delete: a\n",
      "\n",
      "***ERROR Invalid entry. Please specify a number.\n",
      "Enter a number to specify which movie to delete: asdf\n",
      "\n",
      "***ERROR Invalid entry. Please specify a number.\n",
      "Enter a number to specify which movie to delete: asdfasfd\n",
      "\n",
      "***ERROR Invalid entry. Please specify a number.\n",
      "Enter a number to specify which movie to delete: 1\n",
      "\n",
      "Number: 1\n",
      "Avatar: The Way of Water was deleted.```\n",
      "\n",
      "list - list all movies\n",
      "add - add a movie\n",
      "del - delete a movie\n",
      "exit - exit program\n",
      "\n",
      "Selection: del\n",
      "Enter a number to specify which movie to delete: 0\n",
      "\n",
      "***ERROR Invalid index provided. Returning to menu...\n",
      "\n",
      "list - list all movies\n",
      "add - add a movie\n",
      "del - delete a movie\n",
      "exit - exit program\n",
      "\n",
      "Selection: del\n",
      "Enter a number to specify which movie to delete: 10\n",
      "\n",
      "***ERROR Invalid index provided. Returning to menu...\n",
      "\n",
      "list - list all movies\n",
      "add - add a movie\n",
      "del - delete a movie\n",
      "exit - exit program\n",
      "\n",
      "Selection: list\n",
      "Movie List\n",
      "\n",
      "1. Avengers: Infinity War\n",
      "2. John Wick\n",
      "\n",
      "list - list all movies\n",
      "add - add a movie\n",
      "del - delete a movie\n",
      "exit - exit program\n",
      "\n",
      "Selection: del\n",
      "Enter a number to specify which movie to delete: 3\n",
      "\n",
      "***ERROR Invalid index provided. Returning to menu...\n",
      "\n",
      "list - list all movies\n",
      "add - add a movie\n",
      "del - delete a movie\n",
      "exit - exit program\n",
      "\n",
      "Selection: exit\n"
     ]
    }
   ],
   "source": [
    "movies = [\"Avatar: The Way of Water\", \"Avengers: Infinity War\", \"John Wick\"]\n",
    "\n",
    "while True :\n",
    "    showMenu()\n",
    "    \n",
    "    userSelection = input(\"Selection: \")\n",
    "    \n",
    "    if userSelection == \"list\" :\n",
    "        listMovies(movies)\n",
    "        \n",
    "    elif userSelection == \"add\" :\n",
    "        movieName = input(\"Enter a movie name: \")\n",
    "        print()\n",
    "        addMovie(movies, movieName)\n",
    "        \n",
    "    elif userSelection == \"del\" :\n",
    "        while True :\n",
    "            try :\n",
    "                userSelection = int(input(\"Enter a number to specify which movie to delete: \"))\n",
    "                print()\n",
    "                delMovie(movies, userSelection)\n",
    "                break\n",
    "            except:\n",
    "                print()\n",
    "                print(\"***ERROR Invalid entry. Please specify a number.\")\n",
    "                continue\n",
    "                \n",
    "    elif userSelection == \"exit\" :\n",
    "        break\n",
    "        \n",
    "    else :\n",
    "        print(\"***ERROR Invalid input. Please select one of the menu options (list/add/del/exit)\\n\")"
   ]
  },
  {
   "cell_type": "code",
   "execution_count": null,
   "metadata": {},
   "outputs": [],
   "source": []
  }
 ],
 "metadata": {
  "kernelspec": {
   "display_name": "Python 3 (ipykernel)",
   "language": "python",
   "name": "python3"
  },
  "language_info": {
   "codemirror_mode": {
    "name": "ipython",
    "version": 3
   },
   "file_extension": ".py",
   "mimetype": "text/x-python",
   "name": "python",
   "nbconvert_exporter": "python",
   "pygments_lexer": "ipython3",
   "version": "3.9.13"
  }
 },
 "nbformat": 4,
 "nbformat_minor": 4
}
