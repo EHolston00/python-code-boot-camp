{
 "cells": [
  {
   "cell_type": "markdown",
   "metadata": {},
   "source": [
    "## Python Module 2 Exercises"
   ]
  },
  {
   "cell_type": "markdown",
   "metadata": {},
   "source": [
    "1. Print out a data type of a variable?"
   ]
  },
  {
   "cell_type": "code",
   "execution_count": 3,
   "metadata": {},
   "outputs": [
    {
     "data": {
      "text/plain": [
       "int"
      ]
     },
     "execution_count": 3,
     "metadata": {},
     "output_type": "execute_result"
    }
   ],
   "source": [
    "var1 = 123\n",
    "type(var1)"
   ]
  },
  {
   "cell_type": "markdown",
   "metadata": {},
   "source": [
    "2. Round 4.5667 to the nearest hundreth using a build-in function, round()."
   ]
  },
  {
   "cell_type": "code",
   "execution_count": 5,
   "metadata": {},
   "outputs": [
    {
     "name": "stdout",
     "output_type": "stream",
     "text": [
      "4.57\n"
     ]
    }
   ],
   "source": [
    "print(round(4.5667, 2))"
   ]
  },
  {
   "cell_type": "markdown",
   "metadata": {},
   "source": [
    "3. Convert \"657\" to an integer data type"
   ]
  },
  {
   "cell_type": "code",
   "execution_count": 6,
   "metadata": {},
   "outputs": [
    {
     "data": {
      "text/plain": [
       "657"
      ]
     },
     "execution_count": 6,
     "metadata": {},
     "output_type": "execute_result"
    }
   ],
   "source": [
    "int(\"657\")"
   ]
  },
  {
   "cell_type": "markdown",
   "metadata": {},
   "source": [
    "4. Write a function to calculate the miles per gallon.\n",
    "Get a miles driven and gallons used from a user and call your function to calculate the miles per gallon. "
   ]
  },
  {
   "cell_type": "code",
   "execution_count": 28,
   "metadata": {},
   "outputs": [
    {
     "name": "stdout",
     "output_type": "stream",
     "text": [
      "Enter miles driven: 150\n",
      "Enter gallons of gas used: 15\n",
      "Miles Per Gallon: 10.0\n"
     ]
    }
   ],
   "source": [
    "miles = int(input(\"Enter miles driven: \"))\n",
    "gallons = int(input(\"Enter gallons of gas used: \"))\n",
    "\n",
    "def getMilesPerGallon(m,g):\n",
    "    print(f\"Miles Per Gallon: {m/g}\")\n",
    "\n",
    "getMilesPerGallon(miles,gallons)"
   ]
  },
  {
   "cell_type": "markdown",
   "metadata": {},
   "source": [
    "5. Enhance your function from exercise 4. Additionally, get a gas price per gallon from a user and write a program to compute the total gas cost and cost per mile. \n",
    "\n",
    "The output should look something like this:\n",
    "\n",
    "    Enter miles driven:            150\n",
    "    Enter gallons of gas used:     15\n",
    "    Enter cost per gallon:          3\n",
    "\n",
    "    Miles Per Gallon:   10.0\n",
    "    Total Gas Cost:     45.0\n",
    "    Cost per Mile:      0.3\n"
   ]
  },
  {
   "cell_type": "code",
   "execution_count": 29,
   "metadata": {},
   "outputs": [
    {
     "name": "stdout",
     "output_type": "stream",
     "text": [
      "Enter miles driven: 150\n",
      "Enter gallons of gas used: 15\n",
      "Enter cost per gallon: 3\n",
      "\n",
      "Miles Per Gallon: 10.0\n",
      "Total Gas Cost: 45.0\n",
      "Cost Per Mile: 0.3\n"
     ]
    }
   ],
   "source": [
    "miles = int(input(\"Enter miles driven: \"))\n",
    "gallons = int(input(\"Enter gallons of gas used: \"))\n",
    "costPerGallon = int(input(\"Enter cost per gallon: \"))\n",
    "\n",
    "print()\n",
    "\n",
    "def getTotalBreakdown(m,g,c):\n",
    "    print(f\"Miles Per Gallon: {m/g}\")\n",
    "    print(f\"Total Gas Cost: {g*c/1}\")\n",
    "    print(f\"Cost Per Mile: {c / (m/g)}\")\n",
    "    \n",
    "getTotalBreakdown(miles,gallons,costPerGallon)\n"
   ]
  },
  {
   "cell_type": "markdown",
   "metadata": {},
   "source": [
    "6. Write a function called multiply_two() that accepts two parameters. The function should print a message like '15 + 2 = 17'.  Randomly generate two numbers between 1 and 100, then call the function with the two random numbers."
   ]
  },
  {
   "cell_type": "code",
   "execution_count": 33,
   "metadata": {},
   "outputs": [
    {
     "name": "stdout",
     "output_type": "stream",
     "text": [
      "27 * 66 = 1782\n"
     ]
    }
   ],
   "source": [
    "import random as rand\n",
    "\n",
    "def multiply_two(num1, num2):\n",
    "    print(f\"{num1} * {num2} = {num1*num2}\")\n",
    "\n",
    "val1 = rand.randint(1,100)\n",
    "val2 = rand.randint(1,100)\n",
    "\n",
    "multiply_two(val1,val2)"
   ]
  },
  {
   "cell_type": "markdown",
   "metadata": {},
   "source": [
    "7. Write a function called make_shirt() that accepts a size and the text of a message. The function should print a sentence summarizing the size of the shirt and the message printed on it. The default shirt size is large and default message is 'I love Python!' Make a default size shirt with a message, a medium shirt with the default message, and a shirt of any size with a different message."
   ]
  },
  {
   "cell_type": "code",
   "execution_count": 39,
   "metadata": {},
   "outputs": [
    {
     "name": "stdout",
     "output_type": "stream",
     "text": [
      "Shirt size: L, Shirt Message: I love C#\n",
      "Shirt size: M, Shirt Message: I love Python!\n",
      "Shirt size: XL, Shirt Message: Programming is fun!\n"
     ]
    }
   ],
   "source": [
    "def make_shirt(size = \"L\", msg =\"I love Python!\"):\n",
    "    print(f\"Shirt size: {size}, Shirt Message: {msg}\")\n",
    "    \n",
    "make_shirt(msg=\"I love C#\")\n",
    "make_shirt(\"M\")\n",
    "make_shirt(\"XL\", \"Programming is fun!\")"
   ]
  },
  {
   "cell_type": "markdown",
   "metadata": {},
   "source": [
    "8. Create a function for a multiplication table.  Get a number from a user and then call you function which produces a multiplication table for that number.\n",
    "The output should look something like this:\n",
    "\n",
    "        Enter a number: 3\n",
    "        3 X 1 = 3\n",
    "        3 X 2 = 6\n",
    "        3 X 3 = 9\n",
    "        3 X 4 = 12\n",
    "        3 X 5 = 15\n",
    "        3 X 6 = 18\n",
    "        3 X 7 = 21\n",
    "        3 X 8 = 24\n",
    "        3 X 9 = 27\n",
    "        "
   ]
  },
  {
   "cell_type": "code",
   "execution_count": 42,
   "metadata": {},
   "outputs": [
    {
     "name": "stdout",
     "output_type": "stream",
     "text": [
      "Enter a number: 5\n",
      "5 * 1 = 5\n",
      "5 * 2 = 10\n",
      "5 * 3 = 15\n",
      "5 * 4 = 20\n",
      "5 * 5 = 25\n",
      "5 * 6 = 30\n",
      "5 * 7 = 35\n",
      "5 * 8 = 40\n",
      "5 * 9 = 45\n"
     ]
    }
   ],
   "source": [
    "def generateMultTable(num):\n",
    "    print(f\"{num} * {1} = {num * 1}\")\n",
    "    print(f\"{num} * {2} = {num * 2}\")\n",
    "    print(f\"{num} * {3} = {num * 3}\")\n",
    "    print(f\"{num} * {4} = {num * 4}\")\n",
    "    print(f\"{num} * {5} = {num * 5}\")\n",
    "    print(f\"{num} * {6} = {num * 6}\")\n",
    "    print(f\"{num} * {7} = {num * 7}\")\n",
    "    print(f\"{num} * {8} = {num * 8}\")\n",
    "    print(f\"{num} * {9} = {num * 9}\")\n",
    "\n",
    "userNum = int(input(\"Enter a number: \"))\n",
    "generateMultTable(userNum)"
   ]
  },
  {
   "cell_type": "markdown",
   "metadata": {},
   "source": [
    "9. Write a function that accepts a string and returns a string that is \n",
    "    - without any leading nor trailing blanks\n",
    "    - converts to all capital letters\n",
    "    - and replaces all blanks with a period(.).  \n",
    "\n",
    "Write a program to accept a string from a user then call your function and display the original string and changed string.  \n",
    "\n",
    "The output should look something like this:\n",
    "\n",
    "        Enter a text: may your dreams come true\n",
    "        \n",
    "        Original Text: may your dreams come true\n",
    "        New Text: MAY.YOUR.DREAMS.COME.TRUE"
   ]
  },
  {
   "cell_type": "code",
   "execution_count": 45,
   "metadata": {},
   "outputs": [
    {
     "name": "stdout",
     "output_type": "stream",
     "text": [
      "Enter text: This is a string of characters\n",
      "\n",
      "Original Text: This is a string of characters\n",
      "New Text: THIS.IS.A.STRING.OF.CHARACTERS\n"
     ]
    }
   ],
   "source": [
    "def transformStr(text):\n",
    "    print(f\"Original Text: {text}\")\n",
    "    print(f\"New Text: {text.strip().upper().replace(' ', '.')}\")\n",
    "\n",
    "userStr = input(\"Enter text: \")\n",
    "print()\n",
    "transformStr(userStr)"
   ]
  },
  {
   "cell_type": "markdown",
   "metadata": {},
   "source": [
    "10. Write a function that returns a randomly selected character from a passed string. Write a program to accept a string from a user then call your function and display the original string and selected character.\n",
    "\n",
    "The output should look something like this:\n",
    "\n",
    "        Enter a text: functions\n",
    "        Original Text:\tfunctions\n",
    "        Random character:\ts"
   ]
  },
  {
   "cell_type": "code",
   "execution_count": 46,
   "metadata": {},
   "outputs": [
    {
     "name": "stdout",
     "output_type": "stream",
     "text": [
      "Enter text: This is a string of data\n",
      "Original Text: This is a string of data\n",
      "Random character: a\n"
     ]
    }
   ],
   "source": [
    "import random as rand\n",
    "\n",
    "def chooseRandCharacter(text):\n",
    "    return text[rand.randint(0,len(userStr)-1)]\n",
    "\n",
    "userStr = input(\"Enter text: \")\n",
    "print(f\"Original Text: {userStr}\")\n",
    "print(f\"Random character: {chooseRandCharacter(userStr)}\")"
   ]
  },
  {
   "cell_type": "markdown",
   "metadata": {},
   "source": [
    "11. Write a program that asks the user to enter the width and length of a room. Once the values have been read, your program should compute and display the area of the room. The length and the width will be entered as floating point numbers. Include units in your prompt and output message; either feet or meters, depending on which unit you are more comfortable working with."
   ]
  },
  {
   "cell_type": "code",
   "execution_count": 50,
   "metadata": {},
   "outputs": [
    {
     "name": "stdout",
     "output_type": "stream",
     "text": [
      "Enter the length (in meters): 5.8\n",
      "Enter the width (in meters): 22.7\n",
      "The area of the space is: 131.66 m-squared\n"
     ]
    }
   ],
   "source": [
    "length = float(input(\"Enter the length (in meters): \"))\n",
    "width = float(input(\"Enter the width (in meters): \"))\n",
    "\n",
    "print(f\"The area of the space is: {length*width} m-squared\")"
   ]
  },
  {
   "cell_type": "markdown",
   "metadata": {},
   "source": [
    "12. The program that you create for this exercise will begin by reading the cost of a meal ordered at a restaurant from the user. Then your program will compute the tax and tip for the meal. Use your local tax rate when computing the amount of tax owing. Compute the tip as 18 percent of the meal amount (without the tax). The output from your program should include the tax amount, the tip amount, and the grand total for the meal including both the tax and the tip. Format the output so that all of the values are displayed using two decimal places."
   ]
  },
  {
   "cell_type": "code",
   "execution_count": 49,
   "metadata": {},
   "outputs": [
    {
     "name": "stdout",
     "output_type": "stream",
     "text": [
      "Enter the cost of the meal: 5.29\n",
      "\n",
      "Subtotal: $5.29\n",
      "Tax: $0.37\n",
      "Tip: $0.95\n",
      "Grand Total: $6.61\n"
     ]
    }
   ],
   "source": [
    "cost = float(input(\"Enter the cost of the meal: \"))\n",
    "tax = cost*.07\n",
    "tip = cost*.18\n",
    "grandTotal = cost + tax + tip\n",
    "\n",
    "print()\n",
    "print(f\"Subtotal: ${cost}\")\n",
    "print(f\"Tax: ${tax:,.2f}\")\n",
    "print(f\"Tip: ${tip:,.2f}\")\n",
    "print(f\"Grand Total: ${grandTotal:,.2f}\")"
   ]
  },
  {
   "cell_type": "markdown",
   "metadata": {},
   "source": [
    "13. Write a program that reads a positive integer, n, from the user and then displays the sum of all of the integers from 1 to n. The sum of the first n positive integers can be computed using the formula: sum = (n)(n+1)/2"
   ]
  },
  {
   "cell_type": "code",
   "execution_count": 10,
   "metadata": {},
   "outputs": [
    {
     "name": "stdout",
     "output_type": "stream",
     "text": [
      "Enter a number: 10\n",
      "The sum of the numbers from 1 to 10 is:  55\n"
     ]
    }
   ],
   "source": [
    "userNum = int(input(\"Enter a number: \"))\n",
    "print(f\"The sum of the numbers from 1 to {userNum} is: \", userNum*(userNum+1)//2)"
   ]
  },
  {
   "cell_type": "code",
   "execution_count": null,
   "metadata": {},
   "outputs": [],
   "source": []
  }
 ],
 "metadata": {
  "kernelspec": {
   "display_name": "Python 3 (ipykernel)",
   "language": "python",
   "name": "python3"
  },
  "language_info": {
   "codemirror_mode": {
    "name": "ipython",
    "version": 3
   },
   "file_extension": ".py",
   "mimetype": "text/x-python",
   "name": "python",
   "nbconvert_exporter": "python",
   "pygments_lexer": "ipython3",
   "version": "3.9.13"
  }
 },
 "nbformat": 4,
 "nbformat_minor": 4
}
