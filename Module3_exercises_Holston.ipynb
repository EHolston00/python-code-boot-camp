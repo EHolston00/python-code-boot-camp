{
 "cells": [
  {
   "cell_type": "markdown",
   "metadata": {},
   "source": [
    "Exercise 1. Ask for a color and store that answer. \n",
    "If the answer is grey then print out you found Victor's favorite color.\n",
    "Otherwise print out the color is not Victor's favorite color."
   ]
  },
  {
   "cell_type": "code",
   "execution_count": 2,
   "metadata": {},
   "outputs": [
    {
     "name": "stdout",
     "output_type": "stream",
     "text": [
      "Enter a color: grey\n",
      "You found Victor's favorite color\n"
     ]
    }
   ],
   "source": [
    "color = input(\"Enter a color: \")\n",
    "\n",
    "if color == \"grey\" :\n",
    "    print(\"You found Victor's favorite color\")\n",
    "else :\n",
    "    print(f\"{color} is not Victor's favorite color\")"
   ]
  },
  {
   "cell_type": "markdown",
   "metadata": {},
   "source": [
    "Exercise 2. Modify code from above exercise 1 and add in more conditions for other colors such as red, green, blue and then, write statements for them. "
   ]
  },
  {
   "cell_type": "code",
   "execution_count": 7,
   "metadata": {},
   "outputs": [
    {
     "name": "stdout",
     "output_type": "stream",
     "text": [
      "Enter a color: grey\n",
      "You found Victor's favorite color\n"
     ]
    }
   ],
   "source": [
    "color = input(\"Enter a color: \")\n",
    "\n",
    "if color == \"grey\" :\n",
    "    print(\"You found Victor's favorite color\")\n",
    "elif color == \"blue\" :\n",
    "    print(\"You found my favorite color\")\n",
    "elif color == \"red\" :\n",
    "    print(\"You found Madison's favorite color\")\n",
    "elif color == \"green\" :\n",
    "    print(\"That's the color of healthy grass\")\n",
    "else :\n",
    "    print(f\"{color} is a different color\")"
   ]
  },
  {
   "cell_type": "markdown",
   "metadata": {},
   "source": [
    "Exercise 3. Ask for an exam score and store that number. If the number is greater than 100, then print out 'You cannot have an exam score higher than 100'. If the number doesn't exceeed 100 but is greater than or equal to 75, then print out 'You did great on your exam!'. Otherwise if they scored lower than 75, then print out 'You need to study harder'."
   ]
  },
  {
   "cell_type": "code",
   "execution_count": 11,
   "metadata": {},
   "outputs": [
    {
     "name": "stdout",
     "output_type": "stream",
     "text": [
      "Enter an exam score: 74\n",
      "You need to study harder\n"
     ]
    }
   ],
   "source": [
    "score = int(input(\"Enter an exam score: \"))\n",
    "\n",
    "if score > 100 :\n",
    "    print(\"You cannot have an exam score higher than 100\")\n",
    "elif score >= 75 :\n",
    "    print(\"You did great on your exam!\")\n",
    "else :\n",
    "    print(\"You need to study harder\")"
   ]
  },
  {
   "cell_type": "markdown",
   "metadata": {},
   "source": [
    "Exercise 4. \n",
    "Define two functions: \n",
    "    - a function that takes 3 arguements and returns the sum of three arguements\n",
    "    - a function that takes 2 arguements and returns the result of 1st arguement multiplied by 2nd arguement\n",
    "\n",
    "Then tell the user to choose option 1 to add three numbers or option 2 to multiply two numbers.\n",
    "If the user choose option 1 then call the addition function, otherwise if they choose option 2 then call the mulitplication function.  If the user choose anything other than option 1 or 2, then generate a friendly error messsage"
   ]
  },
  {
   "cell_type": "code",
   "execution_count": 28,
   "metadata": {},
   "outputs": [
    {
     "name": "stdout",
     "output_type": "stream",
     "text": [
      "Choose to add 3 numbers (1) or to multiply 2 numbers (2): 1\n",
      "Enter first number: a\n",
      "You've entered a non-integer. Please try again\n"
     ]
    }
   ],
   "source": [
    "def addNums(num1, num2, num3) :\n",
    "    return num1 + num2 + num3\n",
    "\n",
    "def multiplyNums(num1, num2) :\n",
    "    return num1 * num2\n",
    "\n",
    "\n",
    "option = input(\"Choose to add 3 numbers (1) or to multiply 2 numbers (2): \")\n",
    "if (option != \"1\" and option != \"2\") :\n",
    "    print(\"Invalid entry. Please enter either a 1 or a 2\")\n",
    "\n",
    "try :\n",
    "    if option == \"1\" :\n",
    "        firstNum = int(input(\"Enter first number: \"))\n",
    "        secondNum = int(input(\"Enter second number: \"))\n",
    "        thirdNum = int(input(\"Enter third number: \"))\n",
    "        print(f\"The sum of those numbers is: {addNums(firstNum, secondNum, thirdNum)}\")\n",
    "    if option == \"2\" :\n",
    "        firstNum = int(input(\"Enter first number: \"))\n",
    "        secondNum = int(input(\"Enter second number: \"))\n",
    "        print(f\"The product of those numbers is: {multiplyNums(firstNum, secondNum)}\")\n",
    "        \n",
    "except :\n",
    "    print(\"You've entered a non-integer. Please try again\")\n",
    "        "
   ]
  },
  {
   "cell_type": "markdown",
   "metadata": {},
   "source": [
    "Exercise 5. \n",
    "Write a function to convert a test score to a grade where  \n",
    " - 90 - 100: A\n",
    " - 80 - 89:  B\n",
    " - 70 - 79:  C\n",
    " - 60 - 69:  D\n",
    " - < 60   :  F\n",
    " \n",
    "If a score is not between 0 and 100 then print out an error message. In the program, ask the user for a score and then call your function. "
   ]
  },
  {
   "cell_type": "code",
   "execution_count": 35,
   "metadata": {},
   "outputs": [
    {
     "name": "stdout",
     "output_type": "stream",
     "text": [
      "Enter a grade: 70\n",
      "You've received a C\n"
     ]
    }
   ],
   "source": [
    "try:\n",
    "    grade = int(input(\"Enter a grade: \"))\n",
    "    if (grade >= 90 and grade <= 100) :\n",
    "        print(\"You've received an A\") \n",
    "    elif (grade >= 80 and grade < 90) :\n",
    "        print(\"You've received a B\") \n",
    "    elif (grade >= 70 and grade < 80) :\n",
    "        print(\"You've received a C\")\n",
    "    elif (grade >= 60 and grade < 70) :\n",
    "        print(\"You've received a D\")\n",
    "    elif grade < 60 :\n",
    "        print(\"You've received an F\")\n",
    "    else :\n",
    "        print(\"Invalid grade provided. Please try again.\")\n",
    "except: \n",
    "    print(\"You've entered a non-integer. Please try again\")"
   ]
  },
  {
   "cell_type": "markdown",
   "metadata": {},
   "source": [
    "Exercise 6. Write a program to compute discounts for customers.  \n",
    "- For retail customers, \n",
    "    - if invoice total is greater than \\$100 then discount rate is 10\\%, otherwise no discount \n",
    "\n",
    "- For wholesale customers,\n",
    "    - if invoice total is greater than \\$500 then discount rate is 30\\%, otherwise discount rate is 20\\%\n",
    "    \n",
    "Get the type of customer and the invoice total from the user."
   ]
  },
  {
   "cell_type": "code",
   "execution_count": 85,
   "metadata": {},
   "outputs": [
    {
     "name": "stdout",
     "output_type": "stream",
     "text": [
      "Enter the customer type: wholesale\n",
      "Enter the invoice amount: 501\n",
      "The discount rate is 30%\n"
     ]
    }
   ],
   "source": [
    "import sys\n",
    "\n",
    "def computeDiscount(custType, invoiceAmt) :\n",
    "    if (custType == \"retail\") :\n",
    "        if (invoiceAmt > 100) :\n",
    "            print(f\"The discount rate is {.1:.0%}\")\n",
    "        else :\n",
    "            print(\"No discount for this customer.\")\n",
    "    elif (custType == \"wholesale\") :\n",
    "        if (invoiceAmt > 500) :\n",
    "            print(f\"The discount rate is {.3:.0%}\")\n",
    "        else :\n",
    "            print(f\"The discount rate is {.2:.0%}\")\n",
    "    else :\n",
    "        print(\"Invalid customer type. Please try again.\")\n",
    "                  \n",
    "\n",
    "customerType = input(\"Enter the customer type: \")\n",
    "try :\n",
    "    invoiceAmount = float(input(\"Enter the invoice amount: \"))\n",
    "    computeDiscount(customerType, invoiceAmount)\n",
    "except:\n",
    "    print(f\"***ERROR {sys.exc_info()[0]} has occurred. Invalid number entry; please try again.\")"
   ]
  },
  {
   "cell_type": "markdown",
   "metadata": {},
   "source": [
    "Exercise 7: Write a function that accepts two parameters (a and b) and returns a result of a/b.  In this function, try to catch any exception error.  Then, write a program to get two numbers from a user, call your function using these two numbers, and print out the result in a friendly format.  All input and print statements must be done in the main program. Repeat the process until user wants to quit the program. "
   ]
  },
  {
   "cell_type": "code",
   "execution_count": 77,
   "metadata": {},
   "outputs": [],
   "source": [
    "import sys\n",
    "\n",
    "def divideNums(a,b) :\n",
    "    try :\n",
    "        result = \"The quotient of the two numbers is: \" + str(int(a)/int(b))\n",
    "    except:\n",
    "        result = f\"***ERROR {sys.exc_info()[0]} has occurred\"\n",
    "        \n",
    "    return result"
   ]
  },
  {
   "cell_type": "code",
   "execution_count": 82,
   "metadata": {},
   "outputs": [
    {
     "name": "stdout",
     "output_type": "stream",
     "text": [
      "Enter first number: 25\n",
      "Enter second number: 5\n",
      "The quotient of the two numbers is: 5.0\n"
     ]
    }
   ],
   "source": [
    "firstNum = input(\"Enter first number: \")\n",
    "secondNum = input(\"Enter second number: \")\n",
    "\n",
    "print(f\"{divideNums(firstNum,secondNum)}\")"
   ]
  },
  {
   "cell_type": "markdown",
   "metadata": {},
   "source": [
    "Exercise 8: Write a function to generate a multiplication table. Then write a program to ask a user if user wants to generate a  mutiplication table for a random number or provide a number. The program should continue to run until a user wants to quit."
   ]
  },
  {
   "cell_type": "code",
   "execution_count": 88,
   "metadata": {},
   "outputs": [],
   "source": [
    "def generateMultTable(num) :\n",
    "    print(f\"{num} * 0 = {round(num*0, 2)}\")\n",
    "    print(f\"{num} * 1 = {round(num*1, 2)}\")\n",
    "    print(f\"{num} * 2 = {round(num*2, 2)}\")\n",
    "    print(f\"{num} * 3 = {round(num*3, 2)}\")\n",
    "    print(f\"{num} * 4 = {round(num*4, 2)}\")\n",
    "    print(f\"{num} * 5 = {round(num*5, 2)}\")\n",
    "    print(f\"{num} * 6 = {round(num*6, 2)}\")\n",
    "    print(f\"{num} * 7 = {round(num*7, 2)}\")\n",
    "    print(f\"{num} * 8 = {round(num*8, 2)}\")\n",
    "    print(f\"{num} * 9 = {round(num*9, 2)}\")"
   ]
  },
  {
   "cell_type": "code",
   "execution_count": 90,
   "metadata": {},
   "outputs": [
    {
     "name": "stdout",
     "output_type": "stream",
     "text": [
      "Do you want to generate a multiplication table for a random number (1) or a number that you specify (2)? 1\n",
      "0.7719058736176309 * 0 = 0.0\n",
      "0.7719058736176309 * 1 = 0.77\n",
      "0.7719058736176309 * 2 = 1.54\n",
      "0.7719058736176309 * 3 = 2.32\n",
      "0.7719058736176309 * 4 = 3.09\n",
      "0.7719058736176309 * 5 = 3.86\n",
      "0.7719058736176309 * 6 = 4.63\n",
      "0.7719058736176309 * 7 = 5.4\n",
      "0.7719058736176309 * 8 = 6.18\n",
      "0.7719058736176309 * 9 = 6.95\n",
      "Would you like to try another number(y/n)? y\n",
      "Do you want to generate a multiplication table for a random number (1) or a number that you specify (2)? 1\n",
      "0.052599035125450166 * 0 = 0.0\n",
      "0.052599035125450166 * 1 = 0.05\n",
      "0.052599035125450166 * 2 = 0.11\n",
      "0.052599035125450166 * 3 = 0.16\n",
      "0.052599035125450166 * 4 = 0.21\n",
      "0.052599035125450166 * 5 = 0.26\n",
      "0.052599035125450166 * 6 = 0.32\n",
      "0.052599035125450166 * 7 = 0.37\n",
      "0.052599035125450166 * 8 = 0.42\n",
      "0.052599035125450166 * 9 = 0.47\n",
      "Would you like to try another number(y/n)? y\n",
      "Do you want to generate a multiplication table for a random number (1) or a number that you specify (2)? 2\n",
      "Enter your number: 10\n",
      "10 * 0 = 0\n",
      "10 * 1 = 10\n",
      "10 * 2 = 20\n",
      "10 * 3 = 30\n",
      "10 * 4 = 40\n",
      "10 * 5 = 50\n",
      "10 * 6 = 60\n",
      "10 * 7 = 70\n",
      "10 * 8 = 80\n",
      "10 * 9 = 90\n",
      "Would you like to try another number(y/n)? y\n",
      "Do you want to generate a multiplication table for a random number (1) or a number that you specify (2)? 2\n",
      "Enter your number: 20\n",
      "20 * 0 = 0\n",
      "20 * 1 = 20\n",
      "20 * 2 = 40\n",
      "20 * 3 = 60\n",
      "20 * 4 = 80\n",
      "20 * 5 = 100\n",
      "20 * 6 = 120\n",
      "20 * 7 = 140\n",
      "20 * 8 = 160\n",
      "20 * 9 = 180\n",
      "Would you like to try another number(y/n)? y\n",
      "Do you want to generate a multiplication table for a random number (1) or a number that you specify (2)? 2\n",
      "Enter your number: asdf\n",
      "***ERROR <class 'ValueError'> has occurred. Please input a valid number\n",
      "\n",
      "Would you like to try another number(y/n)? n\n",
      "\n",
      "Goodbye!\n"
     ]
    }
   ],
   "source": [
    "import sys, random as rand\n",
    "\n",
    "choice = 'y'\n",
    "while choice == 'y' or choice == 'Y':\n",
    "    try :\n",
    "        selection = input(\"Do you want to generate a multiplication table for a random number (1) or a number that you specify (2)? \")\n",
    "        if selection == \"1\" :\n",
    "            generateMultTable(rand.random())\n",
    "        elif selection == \"2\":\n",
    "            generateMultTable(int(input(\"Enter your number: \")))\n",
    "        else :\n",
    "            print(\"Invalid selection. Please select either 1 or 2\")\n",
    "    except: \n",
    "        print(f\"***ERROR {sys.exc_info()[0]} has occurred. Please input a valid number\\n\")\n",
    "        \n",
    "    choice = input(\"Would you like to try another number(y/n)? \")\n",
    "\n",
    "print()\n",
    "print(\"Goodbye!\")"
   ]
  },
  {
   "cell_type": "markdown",
   "metadata": {},
   "source": [
    "Exercise 9: Write a function to draw a right-triangle using a number as a character.Then, write a program to generate a random number between 1 and 9, call your function with that random number.  The output should look something like this:\n",
    "\n",
    "        base: 5\n",
    "        5\n",
    "        55\n",
    "        555\n",
    "        5555\n",
    "        55555\n",
    "\n",
    "\n",
    "        base: 8\n",
    "        8\n",
    "        88\n",
    "        888\n",
    "        8888\n",
    "        88888\n",
    "        888888\n",
    "        8888888\n",
    "        88888888"
   ]
  },
  {
   "cell_type": "code",
   "execution_count": 92,
   "metadata": {},
   "outputs": [],
   "source": [
    "def drawTriangle(num) :\n",
    "    counter = num\n",
    "    while counter > 0 :\n",
    "        print(str(num) * (num - counter + 1))\n",
    "        counter = counter - 1"
   ]
  },
  {
   "cell_type": "code",
   "execution_count": 96,
   "metadata": {},
   "outputs": [
    {
     "name": "stdout",
     "output_type": "stream",
     "text": [
      "base: 4\n",
      "4\n",
      "44\n",
      "444\n",
      "4444\n"
     ]
    }
   ],
   "source": [
    "import random as rand\n",
    "\n",
    "number = rand.randint(1,9)\n",
    "print(f\"base: {number}\")\n",
    "drawTriangle(number)"
   ]
  },
  {
   "cell_type": "markdown",
   "metadata": {},
   "source": [
    "Exercise 10: Modify function from exercise 9 to show output like this:\n",
    "\n",
    "        base: 5\n",
    "            5\n",
    "           55\n",
    "          555\n",
    "         5555 \n",
    "        55555\n",
    "        \n",
    "        base: 8\n",
    "               8\n",
    "              88\n",
    "             888\n",
    "            8888\n",
    "           88888\n",
    "          888888\n",
    "         8888888\n",
    "        88888888 "
   ]
  },
  {
   "cell_type": "code",
   "execution_count": 99,
   "metadata": {},
   "outputs": [],
   "source": [
    "def drawTriangle(num) :\n",
    "    counter = num\n",
    "    while counter > 0 :\n",
    "        print(\" \"*(counter-1) + str(num) * (num - counter + 1))\n",
    "        counter = counter - 1"
   ]
  },
  {
   "cell_type": "code",
   "execution_count": 103,
   "metadata": {},
   "outputs": [
    {
     "name": "stdout",
     "output_type": "stream",
     "text": [
      "base: 2\n",
      " 2\n",
      "22\n"
     ]
    }
   ],
   "source": [
    "import random as rand\n",
    "\n",
    "number = rand.randint(1,9)\n",
    "print(f\"base: {number}\")\n",
    "drawTriangle(number)"
   ]
  },
  {
   "cell_type": "code",
   "execution_count": null,
   "metadata": {},
   "outputs": [],
   "source": []
  }
 ],
 "metadata": {
  "kernelspec": {
   "display_name": "Python 3 (ipykernel)",
   "language": "python",
   "name": "python3"
  },
  "language_info": {
   "codemirror_mode": {
    "name": "ipython",
    "version": 3
   },
   "file_extension": ".py",
   "mimetype": "text/x-python",
   "name": "python",
   "nbconvert_exporter": "python",
   "pygments_lexer": "ipython3",
   "version": "3.9.13"
  }
 },
 "nbformat": 4,
 "nbformat_minor": 4
}
